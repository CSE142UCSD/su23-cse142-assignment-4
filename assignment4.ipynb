{
 "cells": [
  {
   "cell_type": "markdown",
   "id": "dba48621-2449-4f97-a8b8-a9d57a26cfbb",
   "metadata": {},
   "source": [
    "1.  [Please put your name here]\n",
    "2.  [Please put your PID here]\n",
    "3.  [Please put your @ucsd.edu email address here]"
   ]
  },
  {
   "cell_type": "markdown",
   "id": "f6a8d939-1a2a-449b-9273-6fb91ff280ff",
   "metadata": {
    "deletable": false,
    "tags": []
   },
   "source": [
    "<div style=\" font-size: 300% !important;\n",
    "    margin-top: 1.5em;\n",
    "    margin-bottom: 10px;\n",
    "    font-weight: bold;\n",
    "    line-height: 1.0;\n",
    "    text-align:center;\">\n",
    "\n",
    "#### CSE142 Assignment 4\n",
    "</div>"
   ]
  },
  {
   "cell_type": "markdown",
   "id": "cda65873-1012-4934-b1aa-251c8ef3a922",
   "metadata": {
    "deletable": false,
    "tags": []
   },
   "source": [
    "<div style=\"page-break-after: always;\"></div>\n",
    "<div class=\"alert alert-block alert-success\">\n",
    "\n",
    "## Question 1\n",
    "    \n",
    "The following C code of a `vadd` function that executes a loop to perform pair-wise additions in vectors.\n",
    "\n",
    "<pre>\n",
    "int vadd(uint64_t *a, uint64_t *b, int size)\n",
    "{\n",
    "    int i;\n",
    "    for(i=0; i < size; i++)\n",
    "        b[i] += a[i];\n",
    "}\n",
    "</pre>\n",
    "\n",
    "\n",
    "and its x86 instructions\n",
    "\n",
    "<pre>\n",
    "vadd:\n",
    ".LFB39:\n",
    "\t.cfi_startproc\n",
    "\tendbr64\n",
    "\ttestl\t%edx, %edx\n",
    "\tjle\t.L2\n",
    "\tleal\t-1(%rdx), %ecx\n",
    "\tmovl\t$0, %eax\n",
    ".L3:\n",
    "    movq\t(%rdi,%rax,8), %rdx\n",
    "    addq\t%rdx, (%rsi,%rax,8)\n",
    "    movq\t%rax, %rdx\n",
    "    addq\t$1, %rax\n",
    "    cmpq\t%rcx, %rdx\n",
    "    jne\t.L3\n",
    ".L2:\n",
    "\tret\n",
    "\t.cfi_endproc\n",
    "</pre>\n",
    "\n",
    "Please answer the following questions."
   ]
  },
  {
   "cell_type": "markdown",
   "id": "038b45d7-a3f9-46a0-88bf-0f120acac891",
   "metadata": {
    "tags": []
   },
   "source": [
    "<div class=\"alert alert-block alert-success\">\n",
    "\n",
    "### 1.A. \n",
    "    \n",
    "Assume the variable `size` is set to 2. Please list the dynamic instructions that the code will execute.\n",
    "</div>"
   ]
  },
  {
   "cell_type": "markdown",
   "id": "0c7d2609-d5cc-4822-8314-bb5fbe79f847",
   "metadata": {},
   "source": [
    "Please type your answer here."
   ]
  },
  {
   "cell_type": "markdown",
   "id": "9b1a62aa-29f8-4e55-8d23-ad085670ecad",
   "metadata": {
    "tags": []
   },
   "source": [
    "<div class=\"alert alert-block alert-success\">\n",
    "\n",
    "### 1.B. \n",
    "    \n",
    "Assume the variable `size` is set to 2. Please draw the data dependency graph.\n",
    "</div>"
   ]
  },
  {
   "cell_type": "markdown",
   "id": "7157af08-4625-4a2b-ba6d-cb27dbe4c096",
   "metadata": {},
   "source": [
    "Please type your answer here."
   ]
  },
  {
   "cell_type": "markdown",
   "id": "905d6935-c94b-464e-ad17-0b5882c67196",
   "metadata": {
    "tags": []
   },
   "source": [
    "<div class=\"alert alert-block alert-success\">\n",
    "\n",
    "### 1.C. \n",
    "    \n",
    "1. Assume the variable `size` is set to a fairly large number\n",
    "2. Assume we have a perfect branch predictor. \n",
    "3. Assume all memory instructions (e.g., mov) take 4 cycles and all other instructions take just 1 cycle.\n",
    "4. Assume the processor has 1 int ALU, 1 branch unit, and 1 memory unit.\n",
    "5. Assume the processor has an issue/fetch width of 2\n",
    "6. Assume the processor has unlimited physical registers and supports register renaming for dynamic out-of-order execution.\n",
    "\n",
    "Please estimate the average CPI.\n",
    "</div>"
   ]
  },
  {
   "cell_type": "markdown",
   "id": "5de73b88-3b12-4522-9889-c7b0bda85379",
   "metadata": {},
   "source": [
    "Please type your answer here."
   ]
  },
  {
   "cell_type": "markdown",
   "id": "b2f82757-659b-46c8-9720-3bc622b059db",
   "metadata": {
    "tags": []
   },
   "source": [
    "<div class=\"alert alert-block alert-success\">\n",
    "\n",
    "### 1.D. \n",
    "    \n",
    "1. Assume the variable `size` is set to a fairly large number\n",
    "2. Assume we have a perfect branch predictor. \n",
    "3. Assume all memory instructions (e.g., mov) take 4 cycles and all other instructions take just 1 cycle.\n",
    "4. Assume the processor has unlimited number of ALUs/memory units\n",
    "5. Assume the processor has unlimited fetch/issue width.\n",
    "6. Assume the processor has unlimited physical registers and supports register renaming for dynamic out-of-order execution.\n",
    "\n",
    "Please estimate the average CPI.\n",
    "</div>"
   ]
  },
  {
   "cell_type": "markdown",
   "id": "3931445a-becd-4d07-adc6-1070ab09cd72",
   "metadata": {},
   "source": [
    "Please type your answer here."
   ]
  }
 ],
 "metadata": {
  "kernelspec": {
   "display_name": "Python 3 (ipykernel)",
   "language": "python",
   "name": "python3"
  },
  "language_info": {
   "codemirror_mode": {
    "name": "ipython",
    "version": 3
   },
   "file_extension": ".py",
   "mimetype": "text/x-python",
   "name": "python",
   "nbconvert_exporter": "python",
   "pygments_lexer": "ipython3",
   "version": "3.8.10"
  },
  "widgets": {
   "application/vnd.jupyter.widget-state+json": {
    "state": {},
    "version_major": 2,
    "version_minor": 0
   }
  }
 },
 "nbformat": 4,
 "nbformat_minor": 5
}
